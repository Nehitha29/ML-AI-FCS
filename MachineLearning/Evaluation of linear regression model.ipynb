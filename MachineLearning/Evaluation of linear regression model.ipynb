{
 "cells": [
  {
   "cell_type": "code",
   "execution_count": 1,
   "id": "b2dcc8e7",
   "metadata": {},
   "outputs": [],
   "source": [
    "# Considering the California Housing dataset, design a linear regression model considering\n",
    "# each feature with non zero values, and report the best feature and model accordng to the R2\n",
    "# metric.\n",
    "# (Evaluate your linear regression model using sum of squares due to regression\n",
    "# (SSR), sum of squares error (SSE), sum of squares total (SST) and coefficient\n",
    "# of determination R2 metric and adjusted R2 metric.)\n"
   ]
  },
  {
   "cell_type": "code",
   "execution_count": null,
   "id": "a26b9833",
   "metadata": {},
   "outputs": [],
   "source": []
  }
 ],
 "metadata": {
  "kernelspec": {
   "display_name": "Python 3 (ipykernel)",
   "language": "python",
   "name": "python3"
  },
  "language_info": {
   "codemirror_mode": {
    "name": "ipython",
    "version": 3
   },
   "file_extension": ".py",
   "mimetype": "text/x-python",
   "name": "python",
   "nbconvert_exporter": "python",
   "pygments_lexer": "ipython3",
   "version": "3.11.5"
  }
 },
 "nbformat": 4,
 "nbformat_minor": 5
}
